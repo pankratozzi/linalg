{
  "nbformat": 4,
  "nbformat_minor": 0,
  "metadata": {
    "colab": {
      "name": "linalg_lesson3-4.ipynb",
      "provenance": [],
      "collapsed_sections": []
    },
    "kernelspec": {
      "name": "python3",
      "display_name": "Python 3"
    },
    "language_info": {
      "name": "python"
    }
  },
  "cells": [
    {
      "cell_type": "code",
      "source": [
        "import numpy as np"
      ],
      "metadata": {
        "id": "c6OnlLWvwlGy"
      },
      "execution_count": null,
      "outputs": []
    },
    {
      "cell_type": "code",
      "source": [
        "def def_mtx(X: np.array, Y: np.array):\n",
        "    if X.shape[1] == Y.shape[0]:\n",
        "        print(f'{X.dot(Y).shape}')\n",
        "    else:\n",
        "        print(f'Not defined: {X.shape}, {Y.shape}')"
      ],
      "metadata": {
        "id": "IqaJ8a9U2Yme"
      },
      "execution_count": null,
      "outputs": []
    },
    {
      "cell_type": "code",
      "source": [
        "# task 1\n",
        "# assert num_cols_A == num_rows_B\n",
        "for point, shapeA, shapeB in zip(['a', 'b', 'c', 'd'], [(4,2), (2,5), (8,3), (4,4)], [(4,2), (5,3), (3,8), (4,4)]):\n",
        "    print(f'{point})')\n",
        "    A = np.ones(shapeA)\n",
        "    B = np.ones(shapeB)\n",
        "    def_mtx(A,B)\n",
        "    def_mtx(B,A)\n",
        "    print('-'*20)"
      ],
      "metadata": {
        "colab": {
          "base_uri": "https://localhost:8080/"
        },
        "id": "tQ8fTO5n1ScZ",
        "outputId": "6c45e5a0-5fe9-463f-f0ff-279556ef8b48"
      },
      "execution_count": null,
      "outputs": [
        {
          "output_type": "stream",
          "name": "stdout",
          "text": [
            "a)\n",
            "Not defined: (4, 2), (4, 2)\n",
            "Not defined: (4, 2), (4, 2)\n",
            "--------------------\n",
            "b)\n",
            "(2, 3)\n",
            "Not defined: (5, 3), (2, 5)\n",
            "--------------------\n",
            "c)\n",
            "(8, 8)\n",
            "(3, 3)\n",
            "--------------------\n",
            "d)\n",
            "(4, 4)\n",
            "(4, 4)\n",
            "--------------------\n"
          ]
        }
      ]
    },
    {
      "cell_type": "code",
      "source": [
        "# task 2\n",
        "A = np.array([[1,-2], [3,0]])\n",
        "B = np.array([[4,-1], [0,5]])\n",
        "print(f'Sum:\\n {A+B}')\n",
        "print(f'Prod:\\n {A.dot(B)}')"
      ],
      "metadata": {
        "colab": {
          "base_uri": "https://localhost:8080/"
        },
        "id": "2U7-OryN6-M-",
        "outputId": "92212a76-4505-48ee-c753-ea087c5e6e04"
      },
      "execution_count": null,
      "outputs": [
        {
          "output_type": "stream",
          "name": "stdout",
          "text": [
            "Sum:\n",
            " [[ 5 -3]\n",
            " [ 3  5]]\n",
            "Prod:\n",
            " [[  4 -11]\n",
            " [ 12  -3]]\n"
          ]
        }
      ]
    },
    {
      "cell_type": "code",
      "source": [
        "# task 3\n",
        "A = np.array([[1,7], [3,-6]])\n",
        "B = np.array([[0,5], [2,-1]])\n",
        "C = np.array([[2,-4], [1,1]])\n",
        "3*A - 2*B + 4*C"
      ],
      "metadata": {
        "colab": {
          "base_uri": "https://localhost:8080/"
        },
        "id": "OZsffzuA7ihd",
        "outputId": "d3b40a25-f7dc-4481-cb13-4a033d059c0c"
      },
      "execution_count": null,
      "outputs": [
        {
          "output_type": "execute_result",
          "data": {
            "text/plain": [
              "array([[ 11,  -5],\n",
              "       [  9, -12]])"
            ]
          },
          "metadata": {},
          "execution_count": 36
        }
      ]
    },
    {
      "cell_type": "code",
      "source": [
        "# task 4\n",
        "A = np.array([[4,1], [5,-2], [2,3]])\n",
        "print(f'A @ A_T:\\n {A.dot(A.T)}')\n",
        "print(f'A_T @ A:\\n {A.T.dot(A)}')"
      ],
      "metadata": {
        "colab": {
          "base_uri": "https://localhost:8080/"
        },
        "id": "FRRhstI58WXW",
        "outputId": "fdbe7207-5b20-4196-eabf-578351a2819d"
      },
      "execution_count": null,
      "outputs": [
        {
          "output_type": "stream",
          "name": "stdout",
          "text": [
            "A @ A_T:\n",
            " [[17 18 11]\n",
            " [18 29  4]\n",
            " [11  4 13]]\n",
            "A_T @ A:\n",
            " [[45  0]\n",
            " [ 0 14]]\n"
          ]
        }
      ]
    },
    {
      "cell_type": "code",
      "source": [
        "# task 5\n",
        "from itertools import product\n",
        "\n",
        "def mul_matrix_fast(A: list, B: list) -> list:\n",
        "    assert len(A[0]) == len(B), 'number of cols A should be equal rows B'\n",
        "    C = [[0 for _ in range(len(B[0]))] for _ in range(len(A))]\n",
        "    for i, j, k in product(range(len(A)), range(len(B[0])), range(len(B))):\n",
        "        C[i][j] += A[i][k] * B[k][j]\n",
        "    return C\n",
        "\n",
        "def mul_matrix(A: list, B: list) -> list:\n",
        "    assert len(A[0]) == len(B), 'number of cols A should be equal rows B'\n",
        "    C = [[0 for _ in range(len(B[0]))] for _ in range(len(A))]\n",
        "    for i in range(len(A)):\n",
        "        for j in range(len(B[0])):\n",
        "            for k in range(len(B)):\n",
        "                C[i][j] += A[i][k] * B[k][j]\n",
        "    return C\n",
        "\n",
        "A = [[1,2,3,4],\n",
        "     [4,3,2,1],\n",
        "     [0,3,2,1]]\n",
        "B = [[1,3],\n",
        "     [2,4],\n",
        "     [5,1],\n",
        "     [0,2]]\n",
        "print(*mul_matrix(A,B), sep='\\n')\n",
        "print('-'*10)\n",
        "print(*mul_matrix_fast(A,B), sep='\\n')\n",
        "print('-'*10)\n",
        "np.dot(np.array(A), np.array(B)) # check"
      ],
      "metadata": {
        "colab": {
          "base_uri": "https://localhost:8080/"
        },
        "id": "2m5SRDJ5-fJd",
        "outputId": "924393b8-1052-4aef-8008-a9932fce273f"
      },
      "execution_count": null,
      "outputs": [
        {
          "output_type": "stream",
          "name": "stdout",
          "text": [
            "[20, 22]\n",
            "[20, 28]\n",
            "[16, 16]\n",
            "----------\n",
            "[20, 22]\n",
            "[20, 28]\n",
            "[16, 16]\n",
            "----------\n"
          ]
        },
        {
          "output_type": "execute_result",
          "data": {
            "text/plain": [
              "array([[20, 22],\n",
              "       [20, 28],\n",
              "       [16, 16]])"
            ]
          },
          "metadata": {},
          "execution_count": 61
        }
      ]
    },
    {
      "cell_type": "code",
      "source": [
        "# PART 2\n",
        "# task 1\n",
        "x = 5\n",
        "A = np.array([[np.sin(x), -np.cos(x)],\n",
        "              [np.cos(x), np.sin(x)]])\n",
        "np.linalg.det(A)"
      ],
      "metadata": {
        "colab": {
          "base_uri": "https://localhost:8080/"
        },
        "id": "p-pPiuUiL6cc",
        "outputId": "0580da11-68d0-4516-ae39-0204472b549b"
      },
      "execution_count": null,
      "outputs": [
        {
          "output_type": "execute_result",
          "data": {
            "text/plain": [
              "1.0"
            ]
          },
          "metadata": {},
          "execution_count": 65
        }
      ]
    },
    {
      "cell_type": "code",
      "source": [
        "A = np.array([[4,2,3],\n",
        "              [0,5,1],\n",
        "              [0,0,9]])\n",
        "np.linalg.det(A)"
      ],
      "metadata": {
        "colab": {
          "base_uri": "https://localhost:8080/"
        },
        "id": "HHFpT9fjhvQe",
        "outputId": "539b5ae9-3848-4890-e5c1-ada981fb27a8"
      },
      "execution_count": null,
      "outputs": [
        {
          "output_type": "execute_result",
          "data": {
            "text/plain": [
              "180.0"
            ]
          },
          "metadata": {},
          "execution_count": 66
        }
      ]
    },
    {
      "cell_type": "code",
      "source": [
        "A = np.array([[1,2,3],\n",
        "              [4,5,6],\n",
        "              [7,8,9]])\n",
        "np.linalg.det(A)"
      ],
      "metadata": {
        "colab": {
          "base_uri": "https://localhost:8080/"
        },
        "id": "BQPqOldiiLaO",
        "outputId": "70ea0f43-2928-4995-d6e6-9c7304d2633c"
      },
      "execution_count": null,
      "outputs": [
        {
          "output_type": "execute_result",
          "data": {
            "text/plain": [
              "0.0"
            ]
          },
          "metadata": {},
          "execution_count": 67
        }
      ]
    },
    {
      "cell_type": "code",
      "source": [
        "# task 2"
      ],
      "metadata": {
        "id": "X9MiYWNWiZUF"
      },
      "execution_count": null,
      "outputs": []
    },
    {
      "cell_type": "code",
      "source": [
        "# task 3\n",
        "A = np.array([[-2,7,-3],[4,-14,6],[-3,7,13]])\n",
        "np.linalg.det(A)"
      ],
      "metadata": {
        "colab": {
          "base_uri": "https://localhost:8080/"
        },
        "id": "8QPGwz7bigl7",
        "outputId": "c9cf9788-f498-4cea-bef9-26343e1e0108"
      },
      "execution_count": null,
      "outputs": [
        {
          "output_type": "execute_result",
          "data": {
            "text/plain": [
              "0.0"
            ]
          },
          "metadata": {},
          "execution_count": 68
        }
      ]
    },
    {
      "cell_type": "code",
      "source": [
        "# task 4\n",
        "A = np.array([[1,2,3],[1,1,1],[2,3,4]])\n",
        "np.linalg.matrix_rank(A)"
      ],
      "metadata": {
        "colab": {
          "base_uri": "https://localhost:8080/"
        },
        "id": "iCuL5Cgxiy5w",
        "outputId": "de805429-d019-4e70-9566-b30705721cfe"
      },
      "execution_count": null,
      "outputs": [
        {
          "output_type": "execute_result",
          "data": {
            "text/plain": [
              "2"
            ]
          },
          "metadata": {},
          "execution_count": 69
        }
      ]
    },
    {
      "cell_type": "code",
      "source": [
        "A = np.array([[0,0,2,1], [0,0,2,2], [0,0,4,3], [2,3,5,6]])\n",
        "np.linalg.matrix_rank(A)"
      ],
      "metadata": {
        "colab": {
          "base_uri": "https://localhost:8080/"
        },
        "id": "WXB0JkGgjCMR",
        "outputId": "04432c9f-1218-43e7-ce28-81c1a3a7ca9b"
      },
      "execution_count": null,
      "outputs": [
        {
          "output_type": "execute_result",
          "data": {
            "text/plain": [
              "3"
            ]
          },
          "metadata": {},
          "execution_count": 70
        }
      ]
    }
  ]
}