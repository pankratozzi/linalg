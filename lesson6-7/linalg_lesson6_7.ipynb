{
  "nbformat": 4,
  "nbformat_minor": 0,
  "metadata": {
    "colab": {
      "name": "linalg_lesson6-7.ipynb",
      "provenance": [],
      "collapsed_sections": []
    },
    "kernelspec": {
      "name": "python3",
      "display_name": "Python 3"
    },
    "language_info": {
      "name": "python"
    }
  },
  "cells": [
    {
      "cell_type": "code",
      "execution_count": 1,
      "metadata": {
        "id": "R0uOHz6i_CRX"
      },
      "outputs": [],
      "source": [
        "import numpy as np\n",
        "from scipy import linalg"
      ]
    },
    {
      "cell_type": "code",
      "source": [
        "A = np.array([[3,-1,1], [2,-5,-3], [1,1,-3]])\n",
        "Ab = np.hstack([A, np.array([[4,-17,0]]).T])\n",
        "np.linalg.matrix_rank(A) == np.linalg.matrix_rank(Ab)"
      ],
      "metadata": {
        "colab": {
          "base_uri": "https://localhost:8080/"
        },
        "id": "k0xtQNjB_Io1",
        "outputId": "c34bae62-cfcb-462e-b1d0-ca055132a9a1"
      },
      "execution_count": 2,
      "outputs": [
        {
          "output_type": "execute_result",
          "data": {
            "text/plain": [
              "True"
            ]
          },
          "metadata": {},
          "execution_count": 2
        }
      ]
    },
    {
      "cell_type": "code",
      "source": [
        "A = np.array([[2,-4,6], [1,-2,3], [3,-6,9]])\n",
        "Ab = np.hstack([A, np.array([[1,-2,5]]).T])\n",
        "ra = np.linalg.matrix_rank(A)\n",
        "rab = np.linalg.matrix_rank(Ab)\n",
        "if ra == rab and A.shape[1] == ra:\n",
        "    print('One sulution')\n",
        "elif ra == rab and A.shape[1] > rab:\n",
        "    print('Infinity numner of solutions')\n",
        "else:\n",
        "    print('No solutions')"
      ],
      "metadata": {
        "colab": {
          "base_uri": "https://localhost:8080/"
        },
        "id": "VPk9Kx3IANus",
        "outputId": "56893a66-09b4-44a4-a90b-a62ec041d584"
      },
      "execution_count": 4,
      "outputs": [
        {
          "output_type": "stream",
          "name": "stdout",
          "text": [
            "No solutions\n"
          ]
        }
      ]
    },
    {
      "cell_type": "code",
      "source": [
        "A = np.array([[1,2,5], [3,1,-8],])\n",
        "Ab = np.hstack([A, np.array([[4,-2]]).T])\n",
        "ra = np.linalg.matrix_rank(A)\n",
        "rab = np.linalg.matrix_rank(Ab)\n",
        "if ra == rab and A.shape[1] == ra:\n",
        "    print('One sulution')\n",
        "elif ra == rab and A.shape[1] > rab:\n",
        "    print('Infinity numner of solutions')\n",
        "else:\n",
        "    print('No solutions')"
      ],
      "metadata": {
        "colab": {
          "base_uri": "https://localhost:8080/"
        },
        "id": "bYEq1CWGBhyg",
        "outputId": "7141b328-0fe1-4f74-f061-80c3ea5cb0eb"
      },
      "execution_count": 5,
      "outputs": [
        {
          "output_type": "stream",
          "name": "stdout",
          "text": [
            "Infinity numner of solutions\n"
          ]
        }
      ]
    },
    {
      "cell_type": "code",
      "source": [
        "A = np.array([[1,3,-2,4], [0,5,0,1], [0,0,3,0], [0,0,0,2]])\n",
        "Ab = np.hstack([A, np.array([[3,2,4,1]]).T])\n",
        "ra = np.linalg.matrix_rank(A)\n",
        "rab = np.linalg.matrix_rank(Ab)\n",
        "if ra == rab and A.shape[1] == ra:\n",
        "    print('One sulution')\n",
        "elif ra == rab and A.shape[1] > rab:\n",
        "    print('Infinity numner of solutions')\n",
        "else:\n",
        "    print('No solutions')"
      ],
      "metadata": {
        "colab": {
          "base_uri": "https://localhost:8080/"
        },
        "id": "FqGPdJmkCDMp",
        "outputId": "8868a958-9010-407c-c0ff-beaeaa572968"
      },
      "execution_count": 6,
      "outputs": [
        {
          "output_type": "stream",
          "name": "stdout",
          "text": [
            "One sulution\n"
          ]
        }
      ]
    },
    {
      "cell_type": "code",
      "source": [
        "np.linalg.det(A)"
      ],
      "metadata": {
        "colab": {
          "base_uri": "https://localhost:8080/"
        },
        "id": "cJjtWlXUNLO9",
        "outputId": "a7ebf5b7-a629-408f-b922-6245bdf1204b"
      },
      "execution_count": 7,
      "outputs": [
        {
          "output_type": "execute_result",
          "data": {
            "text/plain": [
              "30.000000000000004"
            ]
          },
          "metadata": {},
          "execution_count": 7
        }
      ]
    },
    {
      "cell_type": "code",
      "source": [
        "np.linalg.solve(A, [3,2,4,1])"
      ],
      "metadata": {
        "colab": {
          "base_uri": "https://localhost:8080/"
        },
        "id": "Nz46KRnECWQa",
        "outputId": "7cdba344-dfc6-4f14-89ab-c1f9425f9b15"
      },
      "execution_count": 8,
      "outputs": [
        {
          "output_type": "execute_result",
          "data": {
            "text/plain": [
              "array([2.76666667, 0.3       , 1.33333333, 0.5       ])"
            ]
          },
          "metadata": {},
          "execution_count": 8
        }
      ]
    },
    {
      "cell_type": "markdown",
      "source": [
        "PART II, task 5"
      ],
      "metadata": {
        "id": "qVHzhlx-DWHV"
      }
    },
    {
      "cell_type": "code",
      "source": [
        "coef_A = np.array([[11,7,5], [9,8,4], [2,1,3]])\n",
        "B = np.array([-6,-5,1])\n",
        "M, L, U = linalg.lu(coef_A)\n",
        "print(L)\n",
        "print(U)"
      ],
      "metadata": {
        "colab": {
          "base_uri": "https://localhost:8080/"
        },
        "id": "abmg5BYNZUFW",
        "outputId": "5f310ffe-6d7f-4310-f29a-6bfcd90c19f6"
      },
      "execution_count": 9,
      "outputs": [
        {
          "output_type": "stream",
          "name": "stdout",
          "text": [
            "[[ 1.          0.          0.        ]\n",
            " [ 0.81818182  1.          0.        ]\n",
            " [ 0.18181818 -0.12        1.        ]]\n",
            "[[11.          7.          5.        ]\n",
            " [ 0.          2.27272727 -0.09090909]\n",
            " [ 0.          0.          2.08      ]]\n"
          ]
        }
      ]
    },
    {
      "cell_type": "code",
      "source": [
        "def solve_lu(coef_A: np.array, b: np.array) -> np.array:\n",
        "    coef_shape = coef_A.shape\n",
        "    L = np.eye(coef_A.shape[0])\n",
        "    U = coef_A.copy().astype(np.float32)\n",
        "\n",
        "    for j in range(L.shape[1]-1):\n",
        "        for i in range(j+1, L.shape[1]):\n",
        "            assert U[j,j] != 0, 'zero division'\n",
        "            L[i,j] = U[i,j] / U[j,j]\n",
        "            U[i,:] = U[i,:] - U[j,:] * L[i,j] \n",
        "\n",
        "    y = np.zeros((L.shape[1],))\n",
        "    y[0] = b[0]\n",
        "    for i in range(1,L.shape[1]):\n",
        "        y[i] = b[i] - (L[i,:i]*y[:i]).sum()\n",
        "\n",
        "    x = np.zeros((L.shape[0],))\n",
        "    x[-1] = y[-1] / U[-1,-1]\n",
        "    for i in range(1,L.shape[0]):\n",
        "        x[-i-1] = (y[-i-1] - (U[-i-1,-i:]*x[-i:]).sum()) / U[-i-1,-i-1]\n",
        "    x = np.round(x, 5)\n",
        "\n",
        "    return x\n",
        "\n",
        "solve_lu(coef_A, B)"
      ],
      "metadata": {
        "colab": {
          "base_uri": "https://localhost:8080/"
        },
        "id": "uGcrkTC5Y89i",
        "outputId": "35757f66-2534-4525-f3ae-8c33e7117653"
      },
      "execution_count": 10,
      "outputs": [
        {
          "output_type": "execute_result",
          "data": {
            "text/plain": [
              "array([-1., -0.,  1.])"
            ]
          },
          "metadata": {},
          "execution_count": 10
        }
      ]
    },
    {
      "cell_type": "code",
      "source": [
        "from scipy.linalg import lu_factor, lu_solve\n",
        "A = np.array([[2, 5, 8, 7], [5, 2, 2, 8], [7, 5, 6, 6], [5, 4, 4, 8]])\n",
        "b = np.array([1, 1, 1, 1])\n",
        "lu, piv = lu_factor(A)\n",
        "x = lu_solve((lu, piv), b)\n",
        "x"
      ],
      "metadata": {
        "colab": {
          "base_uri": "https://localhost:8080/"
        },
        "id": "vUjJmXbf4WhV",
        "outputId": "7d7618f9-8492-4efb-f9ab-c375db42d10a"
      },
      "execution_count": 11,
      "outputs": [
        {
          "output_type": "execute_result",
          "data": {
            "text/plain": [
              "array([ 0.05154639, -0.08247423,  0.08247423,  0.09278351])"
            ]
          },
          "metadata": {},
          "execution_count": 11
        }
      ]
    },
    {
      "cell_type": "code",
      "source": [
        "solve_lu(A,b)"
      ],
      "metadata": {
        "colab": {
          "base_uri": "https://localhost:8080/"
        },
        "id": "EN8Aaqzh4aVh",
        "outputId": "72b4ef5a-1268-421f-b96c-5b3e4cff7dc9"
      },
      "execution_count": 12,
      "outputs": [
        {
          "output_type": "execute_result",
          "data": {
            "text/plain": [
              "array([ 0.05155, -0.08247,  0.08247,  0.09278])"
            ]
          },
          "metadata": {},
          "execution_count": 12
        }
      ]
    },
    {
      "cell_type": "code",
      "source": [
        "lu, piv = lu_factor(coef_A)\n",
        "lu_solve((lu, piv), B)"
      ],
      "metadata": {
        "colab": {
          "base_uri": "https://localhost:8080/"
        },
        "id": "1yFqQRGgP-UI",
        "outputId": "987cd534-549e-4f62-c4c2-fa7bfdb1f5a1"
      },
      "execution_count": 13,
      "outputs": [
        {
          "output_type": "execute_result",
          "data": {
            "text/plain": [
              "array([-1.,  0.,  1.])"
            ]
          },
          "metadata": {},
          "execution_count": 13
        }
      ]
    }
  ]
}